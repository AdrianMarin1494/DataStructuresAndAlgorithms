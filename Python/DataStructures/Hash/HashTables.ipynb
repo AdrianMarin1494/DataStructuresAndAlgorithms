{
 "cells": [
  {
   "cell_type": "markdown",
   "metadata": {},
   "source": [
    "## Hash Table\n",
    "\n",
    "The reason Hash Tables are sometimes preferred instead of arrays or linked lists is because searching for, adding, and deleting data can be done really quickly, even for large amounts of data.\n",
    "\n",
    "In a Linked List, finding a person \"Bob\" takes time because we would have to go from one node to the next, checking each node, until the node with \"Bob\" is found.\n",
    "\n",
    "And finding \"Bob\" in an Array could be fast if we knew the index, but when we only know the name \"Bob\", we need to compare each element (like with Linked Lists), and that takes time.\n",
    "\n",
    "With a Hash Table however, finding \"Bob\" is done really fast because there is a way to go directly to where \"Bob\" is stored, using something called a hash function."
   ]
  },
  {
   "cell_type": "markdown",
   "metadata": {},
   "source": [
    "## Building A Hash Table from Scratch\n",
    "\n",
    "Step 1: Starting with an array\n",
    "\n",
    "Using an array, we could store names like this:\n",
    "\n",
    "my_array = ['Pete', 'Jones', 'Lisa', 'Bob', 'Siri']\n",
    "\n",
    "To find \"Bob\" in this array, we need to compare each name, element by element, until we find \"Bob\".\n",
    "\n",
    "If the array was sorted alphabetically, we could use Binary Search to find a name quickly, but inserting or deleting names in the array would mean a big operation of shifting elements in memory.\n",
    "\n",
    "To make interacting with the list of names really fast, let's use a Hash Table for this instead, or a Hash Set, which is a simplified version of a Hash Table.\n",
    "\n",
    "To keep it simple, let's assume there is at most 10 names in the list, so the array must be a fixed size of 10 elements. When talking about Hash Tables, each of these elements is called a bucket.\n",
    "\n",
    "my_hash_set = [None,None,None,None,None,None,None,None,None,None]"
   ]
  },
  {
   "cell_type": "markdown",
   "metadata": {},
   "source": [
    "## Step 2: Storing names using a hash function\n",
    "\n",
    "Now comes the special way we interact with the Hash Set we are making.\n",
    "\n",
    "We want to store a name directly into its right place in the array, and this is where the hash function comes in.\n",
    "\n",
    "A hash function can be made in many ways, it is up to the creator of the Hash Table. A common way is to find a way to convert the value into a number that equals one of the Hash Set's index numbers, in this case a number from 0 to 9. In our example we will use the Unicode number of each character, summarize them and do a modulo 10 operation to get index numbers 0-9."
   ]
  },
  {
   "cell_type": "code",
   "execution_count": 2,
   "metadata": {},
   "outputs": [
    {
     "name": "stdout",
     "output_type": "stream",
     "text": [
      "'Bob' has hash code: 5\n"
     ]
    }
   ],
   "source": [
    "def hash_function(value):\n",
    "    sum_of_chars = 0\n",
    "    for char in value:\n",
    "        sum_of_chars += ord(char)\n",
    "\n",
    "    return sum_of_chars % 10\n",
    "\n",
    "print(\"'Bob' has hash code:\",hash_function('Bob'))"
   ]
  },
  {
   "cell_type": "markdown",
   "metadata": {},
   "source": [
    "The character \"B\" has Unicode code point 66, \"o\" has 111, and \"b\" has 98. Adding those together we get 275. Modulo 10 of 275 is 5, so \"Bob\" should be stored as an array element at index 5.\n",
    "\n",
    "The number returned by the hash function is called the hash code."
   ]
  },
  {
   "cell_type": "markdown",
   "metadata": {},
   "source": [
    "Unicode number: Everything in our computers are stored as numbers, and the Unicode code point is a unique number that exist for every character. For example, the character A has Unicode number (also called Unicode code point) 65"
   ]
  },
  {
   "cell_type": "markdown",
   "metadata": {},
   "source": [
    "After storing \"Bob\" where the hash code tells us (index 5), our array now looks like this:"
   ]
  },
  {
   "cell_type": "code",
   "execution_count": 3,
   "metadata": {},
   "outputs": [],
   "source": [
    "my_hash_set = [None,None,None,None,None,'Bob',None,None,None,None]"
   ]
  },
  {
   "cell_type": "markdown",
   "metadata": {},
   "source": [
    "We can use the hash function to find out where to store the other names \"Pete\", \"Jones\", \"Lisa\", and \"Siri\" as well.\n",
    "\n",
    "After using the hash function to store those names in the correct position, our array looks like this:"
   ]
  },
  {
   "cell_type": "code",
   "execution_count": 4,
   "metadata": {},
   "outputs": [],
   "source": [
    "my_hash_set = [None,'Jones',None,'Lisa',None,'Bob',None,'Siri','Pete',None]"
   ]
  },
  {
   "cell_type": "markdown",
   "metadata": {},
   "source": [
    "## Step 3: Looking up a name using a hash function\n",
    "\n",
    "We have now established a super basic Hash Set, because we do not have to check the array element by element anymore to find out if \"Pete\" is in there, we can just use the hash function to go straight to the right element!\n",
    "\n",
    "To find out if \"Pete\" is stored in the array, we give the name \"Pete\" to our hash function, we get back hash code 9, we go directly to the element at index 9, and there he is. We found \"Pete\" without checking any other elements."
   ]
  },
  {
   "cell_type": "code",
   "execution_count": 5,
   "metadata": {},
   "outputs": [
    {
     "name": "stdout",
     "output_type": "stream",
     "text": [
      "'Pete' is in the Hash Set: True\n"
     ]
    }
   ],
   "source": [
    "my_hash_set = [None,'Jones',None,'Lisa',None,'Bob',None,'Siri','Pete',None]\n",
    "\n",
    "def hash_function(value):\n",
    "    sum_of_chars = 0\n",
    "    for char in value:\n",
    "        sum_of_chars += ord(char)\n",
    "\n",
    "    return sum_of_chars % 10\n",
    "    \n",
    "def contains(name):\n",
    "    index = hash_function(name)\n",
    "    return my_hash_set[index] == name\n",
    "\n",
    "print(\"'Pete' is in the Hash Set:\",contains('Pete'))"
   ]
  },
  {
   "cell_type": "markdown",
   "metadata": {},
   "source": [
    "When deleting a name from our Hash Set, we can also use the hash function to go straight to where the name is, and set that element value to None."
   ]
  },
  {
   "cell_type": "markdown",
   "metadata": {},
   "source": [
    "## Step 4: Handling collisions\n",
    "\n",
    "Let's also add \"Stuart\" to our Hash Set.\n",
    "\n",
    "We give \"Stuart\" to our hash function, and we get the hash code 3, meaning \"Stuart\" should be stored at index 3.\n",
    "\n",
    "Trying to store \"Stuart\" creates what is called a collision, because \"Lisa\" is already stored at index 3.\n",
    "\n",
    "To fix the collision, we can make room for more elements in the same bucket, and solving the collision problem in this way is called chaining. We can give room for more elements in the same bucket by implementing each bucket as a linked list, or as an array.\n",
    "\n",
    "After implementing each bucket as an array, to give room for potentially more than one name in each bucket, \"Stuart\" can also be stored at index 3, and our Hash Set now looks like this:"
   ]
  },
  {
   "cell_type": "code",
   "execution_count": 6,
   "metadata": {},
   "outputs": [],
   "source": [
    "my_hash_set = [\n",
    "    [None],\n",
    "    ['Jones'],\n",
    "    [None],\n",
    "    ['Lisa', 'Stuart'],\n",
    "    [None],\n",
    "    ['Bob'],\n",
    "    [None],\n",
    "    ['Siri'],\n",
    "    ['Pete'],\n",
    "    [None]\n",
    "]"
   ]
  },
  {
   "cell_type": "markdown",
   "metadata": {},
   "source": [
    "Searching for \"Stuart\" in our Hash Set now means that using the hash function we end up directly in bucket 3, but then be must first check \"Lisa\" in that bucket, before we find \"Stuart\" as the second element in bucket 3."
   ]
  },
  {
   "cell_type": "code",
   "execution_count": 7,
   "metadata": {},
   "outputs": [
    {
     "name": "stdout",
     "output_type": "stream",
     "text": [
      "[[None], ['Jones'], [None], ['Lisa', 'Stuart'], [None], ['Bob'], [None], ['Siri'], ['Pete'], [None]]\n",
      "Contains Stuart: True\n"
     ]
    }
   ],
   "source": [
    "my_hash_set = [\n",
    "    [None],\n",
    "    ['Jones'],\n",
    "    [None],\n",
    "    ['Lisa'],\n",
    "    [None],\n",
    "    ['Bob'],\n",
    "    [None],\n",
    "    ['Siri'],\n",
    "    ['Pete'],\n",
    "    [None]\n",
    "]\n",
    "\n",
    "def hash_function(value):\n",
    "    return sum(ord(char) for char in value) % 10\n",
    "    \n",
    "def add(value):\n",
    "    index = hash_function(value)\n",
    "    bucket = my_hash_set[index]\n",
    "    if value not in bucket:\n",
    "        bucket.append(value)\n",
    "        \n",
    "def contains(value):\n",
    "    index = hash_function(value)\n",
    "    bucket = my_hash_set[index]\n",
    "    return value in bucket\n",
    "\n",
    "add('Stuart')\n",
    "\n",
    "print(my_hash_set)\n",
    "print('Contains Stuart:',contains('Stuart'))"
   ]
  },
  {
   "cell_type": "markdown",
   "metadata": {},
   "source": [
    "## Uses of Hash Tables\n",
    "\n",
    "Hash Tables are great for:\n",
    "\n",
    "Checking if something is in a collection (like finding a book in a library).\n",
    "Storing unique items and quickly finding them (like storing phone numbers).\n",
    "Connecting values to keys (like linking names to phone numbers).\n",
    "The most important reason why Hash Tables are great for these things is that Hash Tables are very fast compared Arrays and Linked Lists, especially for large sets. Arrays and Linked Lists have time complexity O(n) for search and delete, while Hash Tables have just O(1) on average"
   ]
  },
  {
   "attachments": {
    "image.png": {
     "image/png": "[encoded data removed]"
    }
   },
   "cell_type": "markdown",
   "metadata": {},
   "source": [
    "## Hash Set vs. Hash Map\n",
    "\n",
    "![image.png](attachment:image.png)"
   ]
  },
  {
   "cell_type": "markdown",
   "metadata": {},
   "source": [
    "## Hash Tables Summarized\n",
    "\n",
    "Hash Table elements are stored in storage containers called buckets.\n",
    "\n",
    "Every Hash Table element has a part that is unique that is called the key.\n",
    "\n",
    "A hash function takes the key of an element to generate a hash code.\n",
    "\n",
    "The hash code says what bucket the element belongs to, so now we can go directly to that Hash Table element: to modify it, or to delete it, or just to check if it exists. Specific hash functions are explained in detail on the next two pages.\n",
    "\n",
    "A collision happens when two Hash Table elements have the same hash code, because that means they belong to the same bucket. A collision can be solved in two ways.\n",
    "\n",
    "Chaining is the way collisions are solved in this tutorial, by using arrays or linked lists to allow more than one element in the same bucket.\n",
    "\n",
    "Open Addressing is another way to solve collisions. With open addressing, if we want to store an element but there is already an element in that bucket, the element is stored in the next available bucket. This can be done in many different ways, but we will not explain open addressing any further here."
   ]
  }
 ],
 "metadata": {
  "kernelspec": {
   "display_name": "Python 3",
   "language": "python",
   "name": "python3"
  },
  "language_info": {
   "codemirror_mode": {
    "name": "ipython",
    "version": 3
   },
   "file_extension": ".py",
   "mimetype": "text/x-python",
   "name": "python",
   "nbconvert_exporter": "python",
   "pygments_lexer": "ipython3",
   "version": "3.11.5"
  }
 },
 "nbformat": 4,
 "nbformat_minor": 2
}

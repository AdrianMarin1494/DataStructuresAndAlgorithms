{
 "cells": [
  {
   "cell_type": "markdown",
   "metadata": {},
   "source": [
    "## Array\n",
    "\n",
    "my_array = [7, 12, 9, 4, 11]\n",
    "\n",
    "The Python code above actually generates a Python 'list' data type, but for the scope of this tutorial the 'list' data type can be used in the same way as an array.\n",
    "\n",
    "Arrays are indexed, meaning that each element in the array has an index, a number that says where in the array the element is located. "
   ]
  },
  {
   "cell_type": "code",
   "execution_count": 2,
   "metadata": {},
   "outputs": [
    {
     "name": "stdout",
     "output_type": "stream",
     "text": [
      "7\n"
     ]
    }
   ],
   "source": [
    "my_array = [7, 12, 9, 4, 11]\n",
    "print( my_array[0] )"
   ]
  },
  {
   "cell_type": "markdown",
   "metadata": {},
   "source": [
    "## Algorithm: Find The Lowest Value in an Array\n",
    "\n",
    "- Go through the values in the array one by one.\n",
    "- Check if the current value is the lowest so far, and if it is, store it.\n",
    "- After looking at all the values, the stored value will be the lowest of all values in the array."
   ]
  },
  {
   "cell_type": "markdown",
   "metadata": {},
   "source": [
    "## Implementation\n",
    "\n",
    "Before implementing the algorithm using an actual programming language, it is usually smart to first write the algorithm as a step-by-step procedure.\n",
    "\n",
    "If you can write down the algorithm in something between human language and programming language, the algorithm will be easier to implement later because we avoid drowning in all the details of the programming language syntax.\n",
    "\n",
    "- Create a variable 'minVal' and set it equal to the first value of the array.\n",
    "- Go through every element in the array.\n",
    "- If the current element has a lower value than 'minVal', update 'minVal' to this value.\n",
    "- After looking at all the elements in the array, the 'minVal' variable now contains the lowest value.\n",
    "\n",
    "You can also write the algorithm in a way that looks more like a programming language if you want to, like this:\n",
    "- Variable 'minVal' = array[0]\n",
    "- For each element in the array\n",
    "    - If current element < minVal\n",
    "        - minVal = current element"
   ]
  },
  {
   "cell_type": "markdown",
   "metadata": {},
   "source": [
    "Note: The two step-by-step descriptions of the algorithm we have written above can be called 'pseudocode'. Pseudocode is a description of what a program does, using language that is something between human language and a programming language."
   ]
  },
  {
   "cell_type": "code",
   "execution_count": 3,
   "metadata": {},
   "outputs": [
    {
     "name": "stdout",
     "output_type": "stream",
     "text": [
      "Lowest value:  4\n"
     ]
    }
   ],
   "source": [
    "my_array = [7, 12, 9, 4, 11]\n",
    "minVal = my_array[0]    # Step 1\n",
    "\n",
    "for i in my_array:      # Step 2\n",
    "    if i < minVal:      # Step 3\n",
    "        minVal = i\n",
    "        \n",
    "print('Lowest value: ',minVal) # Step 4"
   ]
  },
  {
   "cell_type": "markdown",
   "metadata": {},
   "source": [
    "## Algorithm Time Complexity\n",
    "\n",
    "### Run Time\n",
    "\n",
    "When exploring algorithms, we often look at how long time an algorithm takes to run relative to the size of the data set.\n",
    "\n",
    "In the example above, the time the algorithm needs to run is proportional, or linear, to the size of the data set. This is because the algorithm must visit every array element one time to find the lowest value. The loop must run 5 times since there are 5 values in the array. And if the array had 1000 values, the loop would have to run 1000 times."
   ]
  }
 ],
 "metadata": {
  "kernelspec": {
   "display_name": "Python 3",
   "language": "python",
   "name": "python3"
  },
  "language_info": {
   "codemirror_mode": {
    "name": "ipython",
    "version": 3
   },
   "file_extension": ".py",
   "mimetype": "text/x-python",
   "name": "python",
   "nbconvert_exporter": "python",
   "pygments_lexer": "ipython3",
   "version": "3.11.5"
  }
 },
 "nbformat": 4,
 "nbformat_minor": 2
}

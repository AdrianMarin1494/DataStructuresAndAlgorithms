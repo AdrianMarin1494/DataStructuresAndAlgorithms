{
 "cells": [
  {
   "cell_type": "markdown",
   "metadata": {},
   "source": [
    "## Queues\n",
    "\n",
    "Think of a queue as people standing in line in a supermarket.\n",
    "\n",
    "The first person to stand in line is also the first who can pay and leave the supermarket. This way of organizing elements is called FIFO: First In First Out.\n",
    "\n",
    "Basic operations we can do on a queue are:\n",
    "\n",
    "- Enqueue: Adds a new element to the queue.\n",
    "- Dequeue: Removes and returns the first (front) element from the queue.\n",
    "- Peek: Returns the first element in the queue.\n",
    "- isEmpty: Checks if the queue is empty.\n",
    "- Size: Finds the number of elements in the queue.\n",
    "- Experiment with these basic operations in the queue animation above.\n",
    "\n",
    "Queues can be implemented by using arrays or linked lists.\n",
    "\n",
    "Queues can be used to implement job scheduling for an office printer, order processing for e-tickets, or to create algorithms for breadth-first search in graphs."
   ]
  },
  {
   "cell_type": "markdown",
   "metadata": {},
   "source": [
    "## Queue Implementation using Arrays\n",
    "\n",
    "Reasons to implement queues using arrays:\n",
    "\n",
    "Memory Efficient: Array elements do not hold the next elements address like linked list nodes do.\n",
    "Easier to implement and understand: Using arrays to implement queues require less code than using linked lists, and for this reason it is typically easier to understand as well.\n",
    "Reasons for not using arrays to implement queues:\n",
    "\n",
    "Fixed size: An array occupies a fixed part of the memory. This means that it could take up more memory than needed, or if the array fills up, it cannot hold more elements. And resizing an array can be costly.\n",
    "Shifting cost: Dequeue causes the first element in a queue to be removed, and the other elements must be shifted to take the removed elements' place. This is inefficient and can cause problems, especially if the queue is long.\n",
    "Alternatives: Some programming languages have built-in data structures optimized for queue operations that are better than using arrays."
   ]
  },
  {
   "cell_type": "markdown",
   "metadata": {},
   "source": [
    "Note: When using arrays in Python for this tutorial, we are really using the Python 'list' data type"
   ]
  },
  {
   "cell_type": "code",
   "execution_count": 1,
   "metadata": {},
   "outputs": [
    {
     "name": "stdout",
     "output_type": "stream",
     "text": [
      "Queue:  ['A', 'B', 'C']\n",
      "Dequeue:  A\n",
      "Peek:  B\n",
      "isEmpty:  False\n",
      "Size:  2\n"
     ]
    }
   ],
   "source": [
    "queue = []\n",
    "\n",
    "# Enqueue\n",
    "queue.append('A')\n",
    "queue.append('B')\n",
    "queue.append('C')\n",
    "print(\"Queue: \", queue)\n",
    "\n",
    "# Dequeue\n",
    "element = queue.pop(0)\n",
    "print(\"Dequeue: \", element)\n",
    "\n",
    "# Peek\n",
    "frontElement = queue[0]\n",
    "print(\"Peek: \", frontElement)\n",
    "\n",
    "# isEmpty\n",
    "isEmpty = not bool(queue)\n",
    "print(\"isEmpty: \", isEmpty)\n",
    "\n",
    "# Size\n",
    "print(\"Size: \", len(queue))\n"
   ]
  },
  {
   "cell_type": "code",
   "execution_count": 2,
   "metadata": {},
   "outputs": [
    {
     "name": "stdout",
     "output_type": "stream",
     "text": [
      "Queue:  ['A', 'B', 'C']\n",
      "Dequeue:  A\n",
      "Peek:  B\n",
      "isEmpty:  False\n",
      "Size:  2\n"
     ]
    }
   ],
   "source": [
    "class Queue:\n",
    "    def __init__(self):\n",
    "        self.queue = []\n",
    "    \n",
    "    def enqueue(self, element):\n",
    "        self.queue.append(element)\n",
    "    \n",
    "    def dequeue(self):\n",
    "        if self.isEmpty():\n",
    "            return \"Queue is empty\"\n",
    "        return self.queue.pop(0)\n",
    "    \n",
    "    def peek(self):\n",
    "        if self.isEmpty():\n",
    "            return \"Queue is empty\"\n",
    "        return self.queue[0]\n",
    "    \n",
    "    def isEmpty(self):\n",
    "        return len(self.queue) == 0\n",
    "    \n",
    "    def size(self):\n",
    "        return len(self.queue)\n",
    "\n",
    "# Create a queue\n",
    "myQueue = Queue()\n",
    "\n",
    "myQueue.enqueue('A')\n",
    "myQueue.enqueue('B')\n",
    "myQueue.enqueue('C')\n",
    "print(\"Queue: \", myQueue.queue)\n",
    "\n",
    "print(\"Dequeue: \", myQueue.dequeue())\n",
    "\n",
    "print(\"Peek: \", myQueue.peek())\n",
    "\n",
    "print(\"isEmpty: \", myQueue.isEmpty())\n",
    "\n",
    "print(\"Size: \", myQueue.size())"
   ]
  },
  {
   "cell_type": "markdown",
   "metadata": {},
   "source": [
    "## Queue Implementation using Linked Lists\n",
    "\n",
    "Reasons for using linked lists to implement queues:\n",
    "\n",
    "Dynamic size: The queue can grow and shrink dynamically, unlike with arrays.\n",
    "No shifting: The front element of the queue can be removed (enqueue) without having to shift other elements in the memory.\n",
    "Reasons for not using linked lists to implement queues:\n",
    "\n",
    "Extra memory: Each queue element must contain the address to the next element (the next linked list node).\n",
    "Readability: The code might be harder to read and write for some because it is longer and more complex."
   ]
  },
  {
   "cell_type": "code",
   "execution_count": 3,
   "metadata": {},
   "outputs": [
    {
     "name": "stdout",
     "output_type": "stream",
     "text": [
      "Queue: A B C \n",
      "Dequeue:  A\n",
      "Peek:  B\n",
      "isEmpty:  False\n",
      "Size:  2\n"
     ]
    }
   ],
   "source": [
    "class Node:\n",
    "    def __init__(self, data):\n",
    "        self.data = data\n",
    "        self.next = None\n",
    "\n",
    "class Queue:\n",
    "    def __init__(self):\n",
    "        self.front = None\n",
    "        self.rear = None\n",
    "        self.length = 0\n",
    "    \n",
    "    def enqueue(self, element):\n",
    "        new_node = Node(element)\n",
    "        if self.rear is None:\n",
    "            self.front = self.rear = new_node\n",
    "            self.length += 1\n",
    "            return\n",
    "        self.rear.next = new_node\n",
    "        self.rear = new_node\n",
    "        self.length += 1\n",
    "    \n",
    "    def dequeue(self):\n",
    "        if self.isEmpty():\n",
    "            return \"Queue is empty\"\n",
    "        temp = self.front\n",
    "        self.front = temp.next\n",
    "        self.length -= 1\n",
    "        if self.front is None:\n",
    "            self.rear = None\n",
    "        return temp.data\n",
    "    \n",
    "    def peek(self):\n",
    "        if self.isEmpty():\n",
    "            return \"Queue is empty\"\n",
    "        return self.front.data\n",
    "    \n",
    "    def isEmpty(self):\n",
    "        return self.length == 0\n",
    "    \n",
    "    def size(self):\n",
    "        return self.length\n",
    "\n",
    "    def printQueue(self):\n",
    "        temp = self.front\n",
    "        while temp:\n",
    "            print(temp.data, end=\" \")\n",
    "            temp = temp.next\n",
    "        print()\n",
    "\n",
    "# Create a queue\n",
    "myQueue = Queue()\n",
    "\n",
    "myQueue.enqueue('A')\n",
    "myQueue.enqueue('B')\n",
    "myQueue.enqueue('C')\n",
    "print(\"Queue: \", end=\"\")\n",
    "myQueue.printQueue()\n",
    "\n",
    "print(\"Dequeue: \", myQueue.dequeue())\n",
    "\n",
    "print(\"Peek: \", myQueue.peek())\n",
    "\n",
    "print(\"isEmpty: \", myQueue.isEmpty())\n",
    "\n",
    "print(\"Size: \", myQueue.size())"
   ]
  }
 ],
 "metadata": {
  "kernelspec": {
   "display_name": "Python 3",
   "language": "python",
   "name": "python3"
  },
  "language_info": {
   "codemirror_mode": {
    "name": "ipython",
    "version": 3
   },
   "file_extension": ".py",
   "mimetype": "text/x-python",
   "name": "python",
   "nbconvert_exporter": "python",
   "pygments_lexer": "ipython3",
   "version": "3.11.5"
  }
 },
 "nbformat": 4,
 "nbformat_minor": 2
}

{
 "cells": [
  {
   "cell_type": "markdown",
   "metadata": {},
   "source": [
    "## Linear Search\n",
    "\n",
    "The Linear Search algorithm searches through an array and returns the index of the value it searches for."
   ]
  },
  {
   "cell_type": "markdown",
   "metadata": {},
   "source": [
    "## How it works:\n",
    "\n",
    "- Go through the array value by value from the start.\n",
    "- Compare each value to check if it is equal to the value we are looking for.\n",
    "- If the value is found, return the index of that value.\n",
    "- If the end of the array is reached and the value is not found, return -1 to indicate that the value was not found."
   ]
  },
  {
   "cell_type": "markdown",
   "metadata": {},
   "source": [
    "## Manual Run Through\n",
    "\n",
    "Step 1: We start with an array of random values.\n",
    "- [ 12, 8, 9, 11, 5, 11]\n",
    "\n",
    "Step 2: We look at the first value in the array, is it equal to 11?\n",
    "- [ 12, 8, 9, 11, 5, 11]\n",
    "\n",
    "Step 3: We move on to the next value at index 1, and compare it to 11 to see if it is equal.\n",
    "- [ 12, 8, 9, 11, 5, 11]\n",
    "\n",
    "Step 4: We check the next value at index 2.\n",
    "- [ 12, 8, 9, 11, 5, 11]\n",
    "\n",
    "Step 5: We move on to the next value at index 3. Is it equal to 11?\n",
    "- [ 12, 8, 9, 11, 5, 11]\n",
    "\n",
    "We have found it!\n",
    "Value 11 is found at index 3.\n",
    "\n",
    "Returning index position 3.\n",
    "\n",
    "Linear Search is finished.\n",
    "\n"
   ]
  },
  {
   "cell_type": "markdown",
   "metadata": {},
   "source": [
    "## Manual Run Through: What Happened?\n",
    "\n",
    "This algorithm is really straight forward.\n",
    "\n",
    "Every value is checked from the start of the array to see if the value is equal to 11, the value we are trying to find.\n",
    "\n",
    "When the value is found, the searching is stopped, and the index where the value is found is returned.\n",
    "\n",
    "If the array is searched through without finding the value, -1 is returned."
   ]
  },
  {
   "cell_type": "markdown",
   "metadata": {},
   "source": [
    "## Linear Search Implementation\n",
    "\n",
    "To implement the Linear Search algorithm we need:\n",
    "\n",
    "- An array with values to search through.\n",
    "- A target value to search for.\n",
    "- A loop that goes through the array from start to end.\n",
    "- An if-statement that compares the current value with the target value, and returns the current index if the target value is found.\n",
    "- After the loop, return -1, because at this point we know the target value has not been found."
   ]
  },
  {
   "cell_type": "code",
   "execution_count": 1,
   "metadata": {},
   "outputs": [
    {
     "name": "stdout",
     "output_type": "stream",
     "text": [
      "Value 9 found at index 3\n"
     ]
    }
   ],
   "source": [
    "def linearSearch(arr, targetVal):\n",
    "    for i in range(len(arr)):\n",
    "        if arr[i] == targetVal:\n",
    "            return i\n",
    "    return -1\n",
    "\n",
    "arr = [3, 7, 2, 9, 5]\n",
    "targetVal = 9\n",
    "\n",
    "result = linearSearch(arr, targetVal)\n",
    "\n",
    "if result != -1:\n",
    "    print(\"Value\",targetVal,\"found at index\",result)\n",
    "else:\n",
    "    print(\"Value\",targetVal,\"not found\")"
   ]
  },
  {
   "cell_type": "markdown",
   "metadata": {},
   "source": [
    "## Linear Search Time Complexity\n",
    "\n",
    "If Linear Search runs and finds the target value as the first array value in an array with n values, only one compare is needed.\n",
    "\n",
    "But if Linear Search runs through the whole array of n values, without finding the target value, n compares are needed.\n",
    "\n",
    "This means that time complexity for Linear Search is O(n)."
   ]
  }
 ],
 "metadata": {
  "kernelspec": {
   "display_name": "Python 3",
   "language": "python",
   "name": "python3"
  },
  "language_info": {
   "codemirror_mode": {
    "name": "ipython",
    "version": 3
   },
   "file_extension": ".py",
   "mimetype": "text/x-python",
   "name": "python",
   "nbconvert_exporter": "python",
   "pygments_lexer": "ipython3",
   "version": "3.11.5"
  }
 },
 "nbformat": 4,
 "nbformat_minor": 2
}

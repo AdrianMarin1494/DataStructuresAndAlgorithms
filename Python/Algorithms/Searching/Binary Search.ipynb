{
 "cells": [
  {
   "cell_type": "markdown",
   "metadata": {},
   "source": [
    "## Binary Search\n",
    "\n",
    "The Binary Search algorithm searches through an array and returns the index of the value it searches for.\n",
    "\n",
    "Binary Search is much faster than Linear Search, but requires a sorted array to work.\n",
    "\n",
    "The Binary Search algorithm works by checking the value in the center of the array. If the target value is lower, the next value to check is in the center of the left half of the array. This way of searching means that the search area is always half of the previous search area, and this is why the Binary Search algorithm is so fast.\n",
    "\n",
    "This process of halving the search area happens until the target value is found, or until the search area of the array is empty."
   ]
  },
  {
   "cell_type": "markdown",
   "metadata": {},
   "source": [
    "## How it works:\n",
    "\n",
    "- Check the value in the center of the array.\n",
    "- If the target value is lower, search the left half of the array. If the target value is higher, search the right half.\n",
    "- Continue step 1 and 2 for the new reduced part of the array until the target value is found or until the search area is empty.\n",
    "- If the value is found, return the target value index. If the target value is not found, return -1."
   ]
  },
  {
   "cell_type": "markdown",
   "metadata": {},
   "source": [
    "## Manual Run Through\n",
    "\n",
    "Step 1: We start with an array.\n",
    "- [ 2, 3, 7, 7, 11, 15, 25]\n",
    "\n",
    "Step 2: The value in the middle of the array at index 3, is it equal to 11?\n",
    "- [ 2, 3, 7, 7, 11, 15, 25]\n",
    "\n",
    "Step 3: 7 is less than 11, so we must search for 11 to the right of index 3. The values to the right of index 3 are [ 11, 15, 25]. The next value to check is the middle value 15, at index 5.\n",
    "- [ 2, 3, 7, 7, 11, 15, 25]\n",
    "\n",
    "Step 4: 15 is higher than 11, so we must search to the left of index 5. We have already checked index 0-3, so index 4 is only value left to check.\n",
    "- [ 2, 3, 7, 7, 11, 15, 25]\n",
    "\n",
    "We have found it!\n",
    "\n",
    "Value 11 is found at index 4.\n",
    "\n",
    "Returning index position 4.\n",
    "\n",
    "Binary Search is finished."
   ]
  },
  {
   "cell_type": "markdown",
   "metadata": {},
   "source": [
    "## Manual Run Through: What Happened?\n",
    "\n",
    "To start with, the algorithm has two variables \"left\" and \"right\". \"left\" is 0 and represents the index of the first value in the array, and \"right\" is 6 and represents the index of the last value in the array.\n",
    "\n",
    "(left + right) / 2 = (0 + 6) / 2 = 3\n",
    "is the first index used to check if the middle value (7) is equal to the target value (11). 7 is lower than the target value 11, so in the next loop, the search area must be limited to the right side of the middle value: [11, 15, 25], on index 4-6.\n",
    "\n",
    "To limit the search area and find a new middle value, \"left\" is updated to index 4, \"right\" is still 6. 4 and 6 are the indexes for the first and last values in the new search area, the right side of the previous middle value. The new middle value index is\n",
    "\n",
    "(left + right) / 2 = (4 + 6) / 2 = 10 / 2 = 5.\n",
    "The new middle value on index 5 is checked: 15 is higher than 11, so if the target value 11 exists in the array it must be on the left side of index 5. The new search area is created by updating \"right\" from 6 to 4. Now both \"left\" and \"right\" is 4,\n",
    "\n",
    "\n",
    "(left + right) / 2 = (4 + 4) / 2 = 4\n",
    "so there is only index 4 left to check. The target value 11 is found at index 4, so index 4 is returned.\n",
    "\n",
    "In general, this is the way the Binary Search algorithm continues to halve the array search area until the target value is found.\n",
    "\n",
    "When the target value is found, the index of the target value is returned. If the target value is not found, -1 is returned."
   ]
  },
  {
   "cell_type": "markdown",
   "metadata": {},
   "source": [
    "## Binary Search Implementation\n",
    "\n",
    "To implement the Binary Search algorithm we need:\n",
    "\n",
    "- An array with values to search through.\n",
    "- A target value to search for.\n",
    "- A loop that runs as long as left index is less than, or equal to, the right index.\n",
    "- An if-statement that compares the middle value with the target value, and returns the index if the target value is found.\n",
    "- An if-statement that checks if the target value is less than, or larger than, the middle value, and updates the \"left\" or \"right\" variables to narrow down the search area.\n",
    "- After the loop, return -1, because at this point we know the target value has not been found."
   ]
  },
  {
   "cell_type": "code",
   "execution_count": 1,
   "metadata": {},
   "outputs": [
    {
     "name": "stdout",
     "output_type": "stream",
     "text": [
      "Value 15 found at index 7\n"
     ]
    }
   ],
   "source": [
    "def binarySearch(arr, targetVal):\n",
    "    left = 0\n",
    "    right = len(arr) - 1\n",
    "\n",
    "    while left <= right:\n",
    "        mid = (left + right) // 2\n",
    "\n",
    "        if arr[mid] == targetVal:\n",
    "            return mid\n",
    "        \n",
    "        if arr[mid] < targetVal:\n",
    "            left = mid + 1\n",
    "        else:\n",
    "            right = mid - 1\n",
    "\n",
    "    return -1\n",
    "\n",
    "myArray = [1, 3, 5, 7, 9, 11, 13, 15, 17, 19]\n",
    "myTarget = 15\n",
    "\n",
    "result = binarySearch(myArray, myTarget)\n",
    "\n",
    "if result != -1:\n",
    "    print(\"Value\",myTarget,\"found at index\", result)\n",
    "else:\n",
    "    print(\"Target not found in array.\")"
   ]
  },
  {
   "cell_type": "markdown",
   "metadata": {},
   "source": [
    "## Binary Search Time Complexity\n",
    "\n",
    "Each time Binary Search checks a new value to see if it is the target value, the search area is halved.\n",
    "\n",
    "This means that even in the worst case scenario where Binary Search cannot find the target value, it still only needs log2n comparisons to look through a sorted array of n values.\n",
    "\n",
    "Time complexity for Binary Search is O(log2n)."
   ]
  },
  {
   "cell_type": "markdown",
   "metadata": {},
   "source": [
    "Note: When writing time complexity using Big O notation we could also just have written O(log n), but O(log2n) reminds us that the array search area is halved for every new comparison, which is the basic concept of Binary Search, so we will just keep the base 2 indication in this case."
   ]
  }
 ],
 "metadata": {
  "kernelspec": {
   "display_name": "Python 3",
   "language": "python",
   "name": "python3"
  },
  "language_info": {
   "codemirror_mode": {
    "name": "ipython",
    "version": 3
   },
   "file_extension": ".py",
   "mimetype": "text/x-python",
   "name": "python",
   "nbconvert_exporter": "python",
   "pygments_lexer": "ipython3",
   "version": "3.11.5"
  }
 },
 "nbformat": 4,
 "nbformat_minor": 2
}

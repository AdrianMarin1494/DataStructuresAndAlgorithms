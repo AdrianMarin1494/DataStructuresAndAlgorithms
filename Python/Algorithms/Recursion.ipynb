{
 "cells": [
  {
   "cell_type": "markdown",
   "metadata": {},
   "source": [
    "## The Fibonacci Number Algorithm\n",
    "\n",
    "To generate a Fibonacci number, all we need to do is to add the two previous Fibonacci numbers.\n",
    "\n",
    "Loops vs Recursion\n",
    "\n",
    "An implementation of the Fibonacci algorithm above using a for loop.\n",
    "\n",
    "An implementation of the Fibonacci algorithm above using recursion."
   ]
  },
  {
   "cell_type": "markdown",
   "metadata": {},
   "source": [
    "## Implementation Using a For Loop\n",
    "It can be a good idea to list what the code must contain or do before programming it:\n",
    "\n",
    "Two variables to hold the previous two Fibonacci numbers\n",
    "\n",
    "A for loop that runs 18 times\n",
    "\n",
    "Create new Fibonacci numbers by adding the two previous ones\n",
    "\n",
    "Print the new Fibonacci number\n",
    "\n",
    "Update the variables that hold the previous two fibonacci numbers\n",
    "\n",
    "Using the list above, it is easier to write the program:"
   ]
  },
  {
   "cell_type": "code",
   "execution_count": null,
   "metadata": {},
   "outputs": [],
   "source": [
    "prev2 = 0\n",
    "prev1 = 1\n",
    "\n",
    "print(prev2)\n",
    "print(prev1)\n",
    "\n",
    "for fibo in range(18):\n",
    "    newFibo = prev2 + prev1\n",
    "    print(newFibo)\n",
    "    prev2 = prev1\n",
    "    prev1 = newFibo"
   ]
  },
  {
   "cell_type": "markdown",
   "metadata": {},
   "source": [
    "## Implementation Using Recursion\n",
    "Recursion is when a function calls itself.\n",
    "\n",
    "To implement the Fibonacci algorithm we need most of the same things as in the code example above, but we need to replace the for loop with recursion.\n",
    "\n",
    "To replace the for loop with recursion, we need to encapsulate much of the code in a function, and we need the function to call itself to create a new Fibonacci number as long as the produced number of Fibonacci numbers is below, or equal to, 19."
   ]
  },
  {
   "cell_type": "code",
   "execution_count": null,
   "metadata": {},
   "outputs": [],
   "source": [
    "print(0)\n",
    "print(1)\n",
    "count = 2\n",
    "\n",
    "def fibonacci(prev1, prev2):\n",
    "    global count\n",
    "    if count <= 19:\n",
    "        newFibo = prev1 + prev2\n",
    "        print(newFibo)\n",
    "        prev2 = prev1\n",
    "        prev1 = newFibo\n",
    "        count += 1\n",
    "        fibonacci(prev1, prev2)\n",
    "    else:\n",
    "        return\n",
    "    \n",
    "fibonacci(1, 0)"
   ]
  }
 ],
 "metadata": {
  "kernelspec": {
   "display_name": "Python 3",
   "language": "python",
   "name": "python3"
  },
  "language_info": {
   "codemirror_mode": {
    "name": "ipython",
    "version": 3
   },
   "file_extension": ".py",
   "mimetype": "text/x-python",
   "name": "python",
   "nbconvert_exporter": "python",
   "pygments_lexer": "ipython3",
   "version": "3.11.5"
  }
 },
 "nbformat": 4,
 "nbformat_minor": 2
}

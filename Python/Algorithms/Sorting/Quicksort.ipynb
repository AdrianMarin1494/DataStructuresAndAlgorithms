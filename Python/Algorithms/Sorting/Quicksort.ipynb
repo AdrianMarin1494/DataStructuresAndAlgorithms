{
 "cells": [
  {
   "cell_type": "markdown",
   "metadata": {},
   "source": [
    "## Quick sort\n",
    "\n",
    "The Quicksort algorithm takes an array of values, chooses one of the values as the 'pivot' element, and moves the other values so that lower values are on the left of the pivot element, and higher values are on the right of it.\n"
   ]
  },
  {
   "cell_type": "markdown",
   "metadata": {},
   "source": [
    "## How it works:\n",
    "\n",
    "- Choose a value in the array to be the pivot element.\n",
    "- Order the rest of the array so that lower values than the pivot element are on the left, and higher values are on the right.\n",
    "- Swap the pivot element with the first element of the higher values so that the pivot element lands in between the lower and higher values.\n",
    "- Do the same operations (recursively) for the sub-arrays on the left and right side of the pivot element."
   ]
  },
  {
   "cell_type": "markdown",
   "metadata": {},
   "source": [
    "## Manual Run Through\n",
    "\n",
    "Step 1: We start with an unsorted array.\n",
    "- [ 11, 9, 12, 7, 3]\n",
    "\n",
    "Step 2: We choose the last value 3 as the pivot element.\n",
    "- [ 11, 9, 12, 7, 3]\n",
    "\n",
    "Step 3: The rest of the values in the array are all greater than 3, an must be on the right side of 3. Swap 3 with 11.\n",
    "- [ 3, 9, 12, 7, 11]\n",
    "\n",
    "Step 4: Value 3 is now in the correct position. We need to sort the values to the right of 3. We choose the last value 11 as the new pivot element.\n",
    "- [ 3, 9, 12, 7, 11]\n",
    "\n",
    "Step 5: The value 7 must be to the left of pivot value 11, and 12 must be to the right of it. Move 7 and 12.\n",
    "- [ 3, 9, 7, 12, 11]\n",
    "\n",
    "Step 6: Swap 11 with 12 so that lower values 9 anf 7 are on the left side of 11, and 12 is on the right side.\n",
    "- [ 3, 9, 7, 11, 12]\n",
    "\n",
    "Step 7: 11 and 12 are in the correct positions. We choose 7 as the pivot element in sub-array [ 9, 7], to the left of 11.\n",
    "- [ 3, 9, 7, 11, 12]\n",
    "\n",
    "Step 8: We must swap 9 with 7.\n",
    "- [ 3, 7, 9, 11, 12]\n",
    "\n",
    "And now, the array is sorted."
   ]
  },
  {
   "cell_type": "markdown",
   "metadata": {},
   "source": [
    "## Manual Run Through: What Happened?\n",
    "\n",
    "We have already seen that last value of the array is chosen as the pivot element, and the rest of the values are arranged so that the values lower than the pivot value are to the left, and the higher values are to the right.\n",
    "\n",
    "After that, the pivot element is swapped with the first of the higher values. This splits the original array in two, with the pivot element in between the lower and the higher values.\n",
    "\n",
    "Now we need to do the same as above with the sub-arrays on the left and right side of the old pivot element. And if a sub-array has length 0 or 1, we consider it finished sorted.\n",
    "\n",
    "To sum up, the Quicksort algorithm makes the sub-arrays become shorter and shorter until array is sorted.\n",
    "\n"
   ]
  },
  {
   "cell_type": "code",
   "execution_count": null,
   "metadata": {},
   "outputs": [],
   "source": [
    "def partition(array, low, high):\n",
    "    pivot = array[high]\n",
    "    i = low - 1\n",
    "\n",
    "    for j in range(low, high):\n",
    "        if array[j] <= pivot:\n",
    "            i += 1\n",
    "            array[i], array[j] = array[j], array[i]\n",
    "\n",
    "    array[i+1], array[high] = array[high], array[i+1]\n",
    "    return i+1\n",
    "\n",
    "def quicksort(array, low=0, high=None):\n",
    "    if high is None:\n",
    "        high = len(array) - 1\n",
    "\n",
    "    if low < high:\n",
    "        pivot_index = partition(array, low, high)\n",
    "        quicksort(array, low, pivot_index-1)\n",
    "        quicksort(array, pivot_index+1, high)\n",
    "\n",
    "my_array = [64, 34, 25, 12, 22, 11, 90, 5]\n",
    "quicksort(my_array)\n",
    "print(\"Sorted array:\", my_array)"
   ]
  },
  {
   "cell_type": "markdown",
   "metadata": {},
   "source": [
    "## Quicksort Time Complexity\n",
    "\n",
    "The worst case scenario for Quicksort is \n",
    "O(n**2). This is when the pivot element is either the highest or lowest value in every sub-array, which leads to a lot of recursive calls. With our implementation above, this happens when the array is already sorted.\n",
    "\n",
    "But on average, the time complexity for Quicksort is actually just O(n log n), which is a lot better than for the previous sorting algorithms we have looked at. That is why Quicksort is so popular."
   ]
  }
 ],
 "metadata": {
  "kernelspec": {
   "display_name": "Python 3",
   "language": "python",
   "name": "python3"
  },
  "language_info": {
   "name": "python",
   "version": "3.11.5"
  }
 },
 "nbformat": 4,
 "nbformat_minor": 2
}

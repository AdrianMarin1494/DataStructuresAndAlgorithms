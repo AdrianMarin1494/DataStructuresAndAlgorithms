{
 "cells": [
  {
   "cell_type": "markdown",
   "metadata": {},
   "source": [
    "## Counting sort\n",
    "\n",
    "The Counting Sort algorithm sorts an array by counting the number of times each value occurs.\n",
    "\n",
    "Counting Sort does not compare values like the previous sorting algorithms we have looked at, and only works on non negative integers.\n",
    "\n",
    "Furthermore, Counting Sort is fast when the range of possible values k is smaller than the number of values n."
   ]
  },
  {
   "cell_type": "markdown",
   "metadata": {},
   "source": [
    "## How it works:\n",
    "\n",
    "- Create a new array for counting how many there are of the different values.\n",
    "- Go through the array that needs to be sorted.\n",
    "- For each value, count it by increasing the counting array at the corresponding index.\n",
    "- After counting the values, go through the counting array to create the sorted array.\n",
    "- For each count in the counting array, create the correct number of elements, with values that correspond to the counting array index."
   ]
  },
  {
   "cell_type": "markdown",
   "metadata": {},
   "source": [
    "## Conditions for Counting Sort\n",
    "\n",
    "These are the reasons why Counting Sort is said to only work for a limited range of non-negative integer values:\n",
    "\n",
    "Integer values: Counting Sort relies on counting occurrences of distinct values, so they must be integers. With integers, each value fits with an index (for non negative values), and there is a limited number of different values, so that the number of possible different values k is not too big compared to the number of values n.\n",
    "\n",
    "Non negative values: Counting Sort is usually implemented by creating an array for counting. When the algorithm goes through the values to be sorted, value x is counted by increasing the counting array value at index x. If we tried sorting negative values, we would get in trouble with sorting value -3, because index -3 would be outside the counting array.\n",
    "\n",
    "Limited range of values: If the number of possible different values to be sorted k is larger than the number of values to be sorted n, the counting array we need for sorting will be larger than the original array we have that needs sorting, and the algorithm becomes ineffective.\n"
   ]
  },
  {
   "cell_type": "markdown",
   "metadata": {},
   "source": [
    "## Manual Run Through\n",
    "\n",
    "Step 1: We start with an unsorted array.\n",
    "- myArray = [ 2, 3, 0, 2, 3, 2]\n",
    "\n",
    "Step 2: We create another array for counting how many there are of each value. The array has 4 elements, to hold values 0 through 3.\n",
    "- myArray = [ 2, 3, 0, 2, 3, 2]\n",
    "- countArray = [ 0, 0, 0, 0]\n",
    "\n",
    "Step 3: Now let's start counting. The first element is 2, so we must increment the counting array element at index 2.\n",
    "- myArray = [ 2, 3, 0, 2, 3, 2]\n",
    "- countArray = [ 0, 0, 1, 0]\n",
    "\n",
    "Step 4: After counting a value, we can remove it, and count the next value, which is 3.\n",
    "- myArray = [ 3, 0, 2, 3, 2]\n",
    "- countArray = [ 0, 0, 1, 1]\n",
    "\n",
    "Step 5: The next value we count is 0, so we increment index 0 in the counting array.\n",
    "- myArray = [ 0, 2, 3, 2]\n",
    "- countArray = [ 1, 0, 1, 1]\n",
    "\n",
    "Step 6: We continue like this until all values are counted.\n",
    "- myArray = [ ]\n",
    "- countArray = [ 1, 0, 3, 2]\n",
    "\n",
    "Step 7: Now we will recreate the elements from the initial array, and we will do it so that the elements are ordered lowest to highest.\n",
    "\n",
    "The first element in the counting array tells us that we have 1 element with value 0. So we push 1 element with value 0 into the array, and we decrease the element at index 0 in the counting array with 1.\n",
    "- myArray = [ 0]\n",
    "- countArray = [ 0, 0, 3, 2]\n",
    "\n",
    "Step 8: From the counting array we see that we do not need to create any elements with value 1.\n",
    "- myArray = [ 0]\n",
    "- countArray = [ 0, 0, 3, 2]\n",
    "\n",
    "Step 9: We push 3 elements with value 2 into the end of the array. And as we create these elements we also decrease the counting array at index 2.\n",
    "- myArray = [ 0, 2, 2, 2]\n",
    "- countArray = [ 0, 0, 0, 2]\n",
    "\n",
    "Step 10: At last we must add 2 elements with value 3 at the end of the array.\n",
    "- myArray = [0, 2, 2, 2, 3, 3]\n",
    "- countArray = [ 0, 0, 0, 0]\n",
    "\n",
    "Finally! The array is sorted."
   ]
  },
  {
   "cell_type": "markdown",
   "metadata": {},
   "source": [
    "## Manual Run Through: What Happened?\n",
    "\n",
    "We have seen that the Counting Sort algorithm works in two steps:\n",
    "\n",
    "- Each value gets counted by incrementing at the correct index in the counting array. After a value is counted, it is removed.\n",
    "- The values are recreated in the right order by using the count, and the index of the count, from the counting array."
   ]
  },
  {
   "cell_type": "markdown",
   "metadata": {},
   "source": [
    "## Counting Sort Implementation\n",
    "\n",
    "To implement the Counting Sort algorithm in a programming language, we need:\n",
    "\n",
    "- An array with values to sort.\n",
    "- A 'countingSort' method that receives an array of integers.\n",
    "- An array inside the method to keep count of the values.\n",
    "- A loop inside the method that counts and removes values, by incrementing elements in the counting array.\n",
    "- A loop inside the method that recreates the array by using the counting array, so that the elements appear in the right order.\n",
    "- One more thing: We need to find out what the highest value in the array is, so that the counting array can be created with the correct size. For example, if the highest value is 5, the counting array must be 6 elements in total, to be able count all possible non negative integers 0, 1, 2, 3, 4 and 5."
   ]
  },
  {
   "cell_type": "code",
   "execution_count": 1,
   "metadata": {},
   "outputs": [
    {
     "name": "stdout",
     "output_type": "stream",
     "text": [
      "Sorted array: [1, 2, 2, 2, 3, 3, 3, 4, 5, 6, 6]\n"
     ]
    }
   ],
   "source": [
    "def countingSort(arr):\n",
    "    max_val = max(arr)\n",
    "    count = [0] * (max_val + 1)\n",
    "\n",
    "    while len(arr) > 0:\n",
    "        num = arr.pop(0)\n",
    "        count[num] += 1\n",
    "\n",
    "    for i in range(len(count)):\n",
    "        while count[i] > 0:\n",
    "            arr.append(i)\n",
    "            count[i] -= 1\n",
    "\n",
    "    return arr\n",
    "\n",
    "unsortedArr = [4, 2, 2, 6, 3, 3, 1, 6, 5, 2, 3]\n",
    "sortedArr = countingSort(unsortedArr)\n",
    "print(\"Sorted array:\", sortedArr)"
   ]
  },
  {
   "cell_type": "markdown",
   "metadata": {},
   "source": [
    "## Counting Sort Time Complexity\n",
    "\n",
    "How fast the Counting Sort algorithm runs depends on both the range of possible values k and the number of values n.\n",
    "\n",
    "In general, time complexity for Counting Sort is O(n+k).\n",
    "\n",
    "In a best case scenario, the range of possible different values k is very small compared to the number of values n and Counting Sort has time complexity O(n).\n",
    "\n",
    "But in a worst case scenario, the range of possible different values k is very big compared to the number of values n and Counting Sort can have time complexity O(n**2) or even worse."
   ]
  },
  {
   "cell_type": "markdown",
   "metadata": {},
   "source": [
    "It is important to consider the range of values compared to the number of values to be sorted before choosing Counting Sort as your algorithm. Keep in mind that Counting Sort only works for non negative integer values."
   ]
  }
 ],
 "metadata": {
  "kernelspec": {
   "display_name": "Python 3",
   "language": "python",
   "name": "python3"
  },
  "language_info": {
   "codemirror_mode": {
    "name": "ipython",
    "version": 3
   },
   "file_extension": ".py",
   "mimetype": "text/x-python",
   "name": "python",
   "nbconvert_exporter": "python",
   "pygments_lexer": "ipython3",
   "version": "3.11.5"
  }
 },
 "nbformat": 4,
 "nbformat_minor": 2
}

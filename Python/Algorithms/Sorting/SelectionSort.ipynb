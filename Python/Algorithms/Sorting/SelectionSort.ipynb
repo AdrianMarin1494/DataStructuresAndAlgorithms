{
 "cells": [
  {
   "cell_type": "markdown",
   "metadata": {},
   "source": [
    "## Selection Sort\n",
    "\n",
    "The Selection Sort algorithm finds the lowest value in an array and moves it to the front of the array.\n",
    "\n",
    "The algorithm looks through the array again and again, moving the next lowest values to the front, until the array is sorted."
   ]
  },
  {
   "cell_type": "markdown",
   "metadata": {},
   "source": [
    "## How it works:\n",
    "\n",
    "- Go through the array to find the lowest value.\n",
    "- Move the lowest value to the front of the unsorted part of the array.\n",
    "- Go through the array again as many times as there are values in the array."
   ]
  },
  {
   "cell_type": "markdown",
   "metadata": {},
   "source": [
    "## Manual Run Through\n",
    "\n",
    "Step 1: We start with an unsorted array.\n",
    "- [ 7, 12, 9, 11, 3]\n",
    "\n",
    "Step 2: Go through the array, one value at a time. Which value is the lowest? 3, right?\n",
    "- [ 7, 12, 9, 11, 3]\n",
    "\n",
    "Step 3: Move the lowest value 3 to the front of the array.\n",
    "- [ 3, 7, 12, 9, 11]\n",
    "\n",
    "Step 4: Look through the rest of the values, starting with 7. 7 is the lowest value, and already at the front of the array, so we don't need to move it.\n",
    "- [ 3, 7, 12, 9, 11]\n",
    "\n",
    "Step 5: Look through the rest of the array: 12, 9 and 11. 9 is the lowest value.\n",
    "- [ 3, 7, 12, 9, 11]\n",
    "\n",
    "Step 6: Move 9 to the front.\n",
    "- [ 3, 7, 9, 12, 11]\n",
    "\n",
    "Step 7: Looking at 12 and 11, 11 is the lowest.\n",
    "- [ 3, 7, 9, 12, 11]\n",
    "\n",
    "Step 8: Move it to the front.\n",
    "- [ 3, 7, 9, 11, 12]\n",
    "\n",
    "Finally, the array is sorted.\n",
    "\n"
   ]
  },
  {
   "cell_type": "markdown",
   "metadata": {},
   "source": [
    "## Manual Run Through: What Happened?\n",
    "\n",
    "Can you see what happened to the lowest value 3? In step 3, it has been moved to the start of the array, where it belongs, but at that step the rest of the array remains unsorted.\n",
    "\n",
    "So the Selection Sort algorithm must run through the array again and again, each time the next lowest value is moved in front of the unsorted part of the array, to its correct position. The sorting continues until the highest value 12 is left at the end of the array. This means that we need to run through the array 4 times, to sort the array of 5 values.\n",
    "\n",
    "And each time the algorithm runs through the array, the remaining unsorted part of the array becomes shorter."
   ]
  },
  {
   "cell_type": "markdown",
   "metadata": {},
   "source": [
    "## Selection Sort Implementation\n",
    "\n",
    "To implement the Selection Sort algorithm in a programming language, we need:\n",
    "\n",
    "- An array with values to sort.\n",
    "- An inner loop that goes through the array, finds the lowest value, and moves it to the front of the array. This loop must loop through one less value each time it runs.\n",
    "- An outer loop that controls how many times the inner loop must run. For an array with n values, this outer loop must run n−1 times."
   ]
  },
  {
   "cell_type": "code",
   "execution_count": 3,
   "metadata": {},
   "outputs": [
    {
     "name": "stdout",
     "output_type": "stream",
     "text": [
      "Sorted array: [5, 11, 12, 22, 25, 34, 64, 90]\n"
     ]
    }
   ],
   "source": [
    "my_array = [64, 34, 25, 12, 22, 11, 90, 5]\n",
    "\n",
    "n = len(my_array)\n",
    "\n",
    "for i in range(n):\n",
    "    min_index = i\n",
    "    for j in range(i+1, n):\n",
    "        if my_array[j] < my_array[min_index]:\n",
    "            min_index = j   \n",
    "    my_array[i], my_array[min_index] = my_array[min_index], my_array[i]\n",
    "\n",
    "print(\"Sorted array:\", my_array)"
   ]
  },
  {
   "cell_type": "markdown",
   "metadata": {},
   "source": [
    "## Selection Sort Time Complexity\n",
    "\n",
    "Selection Sort sorts an array of n values.\n",
    "\n",
    "On average, about n/2 elements are compared to find the lowest value in each loop.\n",
    "\n",
    "And Selection Sort must run the loop to find the lowest value approximately n times.\n",
    "\n",
    "We get time complexity: O(n**2)"
   ]
  }
 ],
 "metadata": {
  "kernelspec": {
   "display_name": "Python 3",
   "language": "python",
   "name": "python3"
  },
  "language_info": {
   "codemirror_mode": {
    "name": "ipython",
    "version": 3
   },
   "file_extension": ".py",
   "mimetype": "text/x-python",
   "name": "python",
   "nbconvert_exporter": "python",
   "pygments_lexer": "ipython3",
   "version": "3.11.5"
  }
 },
 "nbformat": 4,
 "nbformat_minor": 2
}

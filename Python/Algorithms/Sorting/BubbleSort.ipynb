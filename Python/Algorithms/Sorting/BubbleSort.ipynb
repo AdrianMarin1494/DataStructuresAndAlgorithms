{
 "cells": [
  {
   "cell_type": "markdown",
   "metadata": {},
   "source": [
    "## Bubble Sort\n",
    "\n",
    "Bubble Sort is an algorithm that sorts an array from the lowest value to the highest value.\n",
    "\n",
    "The word 'Bubble' comes from how this algorithm works, it makes the highest values 'bubble up'."
   ]
  },
  {
   "cell_type": "markdown",
   "metadata": {},
   "source": [
    "## How it works:\n",
    "\n",
    "- Go through the array, one value at a time.\n",
    "- For each value, compare the value with the next value.\n",
    "- If the value is higher than the next one, swap the values so that the highest value comes last.\n",
    "- Go through the array as many times as there are values in the array."
   ]
  },
  {
   "cell_type": "markdown",
   "metadata": {},
   "source": [
    "## Manual Run Through\n",
    "\n",
    "Before we implement the Bubble Sort algorithm in a programming language, let's manually run through a short array only one time, just to get the idea.\n",
    "\n",
    "Step 1: We start with an unsorted array.\n",
    "- [7, 12, 9, 11, 3]\n",
    "\n",
    "Step 2: We look at the two first values. Does the lowest value come first? Yes, so we don't need to swap them.\n",
    "- [7, 12, 9, 11, 3]\n",
    "\n",
    "Step 3: Take one step forward and look at values 12 and 9. Does the lowest value come first? No.\n",
    "- [7, 12, 9, 11, 3]\n",
    "\n",
    "Step 4: So we need to swap them so that 9 comes first.\n",
    "- [7, 9, 12, 11, 3]\n",
    "\n",
    "Step 5: Taking one step forward, looking at 12 and 11.\n",
    "- [7, 9, 12, 11, 3]\n",
    "\n",
    "Step 6: We must swap so that 11 comes before 12.\n",
    "- [7, 9, 11, 12, 3]\n",
    "\n",
    "Step 7: Looking at 12 and 3, do we need to swap them? Yes.\n",
    "- [7, 9, 11, 12, 3]\n",
    "\n",
    "Step 8: Swapping 12 and 3 so that 3 comes first.\n",
    "- [7, 9, 11, 3, 12]"
   ]
  },
  {
   "cell_type": "markdown",
   "metadata": {},
   "source": [
    "## Manual Run Through: What Happened?\n",
    "\n",
    "Can you see what happened to the highest value 12? It has bubbled up to the end of the array, where it belongs. But the rest of the array remains unsorted.\n",
    "\n",
    "So the Bubble Sort algorithm must run through the array again, and again, and again, each time the next highest value bubbles up to its correct position. The sorting continues until the lowest value 3 is left at the start of the array. This means that we need to run through the array 4 times, to sort the array of 5 values.\n",
    "\n",
    "And each time the algorithm runs through the array, the remaining unsorted part of the array becomes shorter."
   ]
  },
  {
   "cell_type": "markdown",
   "metadata": {},
   "source": [
    "## Bubble Sort Implementation\n",
    "\n",
    "To implement the Bubble Sort algorithm in a programming language, we need:\n",
    "\n",
    "- An array with values to sort.\n",
    "- An inner loop that goes through the array and swaps values if the first value is higher than the next value. This loop must loop through one less value each time it runs.\n",
    "- An outer loop that controls how many times the inner loop must run. For an array with n values, this outer loop must run n-1 times."
   ]
  },
  {
   "cell_type": "code",
   "execution_count": 1,
   "metadata": {},
   "outputs": [
    {
     "name": "stdout",
     "output_type": "stream",
     "text": [
      "Sorted array: [5, 11, 12, 22, 25, 34, 64, 90]\n"
     ]
    }
   ],
   "source": [
    "my_array = [64, 34, 25, 12, 22, 11, 90, 5]\n",
    "\n",
    "n = len(my_array)\n",
    "\n",
    "for i in range(n-1):\n",
    "    for j in range(n-i-1):\n",
    "        if my_array[j] > my_array[j+1]:\n",
    "            my_array[j], my_array[j+1] = my_array[j+1], my_array[j]\n",
    "\n",
    "print(\"Sorted array:\", my_array)"
   ]
  },
  {
   "cell_type": "markdown",
   "metadata": {},
   "source": [
    "## Bubble Sort Improvement\n",
    "\n",
    "The Bubble Sort algorithm can be improved a little bit more.\n",
    "\n",
    "Imagine that the array is almost sorted already, with the lowest numbers at the start, like this for example:\n",
    "\n",
    "my_array = [7, 3, 9, 12, 11]\n",
    "\n",
    "In this case, the array will be sorted after the first run, but the Bubble Sort algorithm will continue to run, without swapping elements, and that is not necessary.\n",
    "\n",
    "If the algorithm goes through the array one time without swapping any values, the array must be finished sorted, and we can stop the algorithm, like this:"
   ]
  },
  {
   "cell_type": "code",
   "execution_count": 2,
   "metadata": {},
   "outputs": [
    {
     "name": "stdout",
     "output_type": "stream",
     "text": [
      "Sorted array: [3, 7, 9, 11, 12]\n"
     ]
    }
   ],
   "source": [
    "my_array = [7, 3, 9, 12, 11]\n",
    "\n",
    "n = len(my_array)\n",
    "\n",
    "for i in range(n-1):\n",
    "    swapped = False\n",
    "    for j in range(n-i-1):\n",
    "        if my_array[j] > my_array[j+1]:\n",
    "            my_array[j], my_array[j+1] = my_array[j+1], my_array[j]\n",
    "            swapped = True\n",
    "    if not swapped:\n",
    "        break\n",
    "\n",
    "print(\"Sorted array:\", my_array)"
   ]
  },
  {
   "cell_type": "markdown",
   "metadata": {},
   "source": [
    "## Bubble Sort Time Complexity\n",
    "\n",
    "The Bubble Sort algorithm loops through every value in the array, comparing it to the value next to it. So for an array of n values, there must be n such comparisons in one loop.\n",
    "\n",
    "And after one loop, the array is looped through again and again n times.\n",
    "\n",
    "This means there are n ⋅ n comparisons done in total, so the time complexity for Bubble Sort is: O(n**2)"
   ]
  }
 ],
 "metadata": {
  "kernelspec": {
   "display_name": "Python 3",
   "language": "python",
   "name": "python3"
  },
  "language_info": {
   "codemirror_mode": {
    "name": "ipython",
    "version": 3
   },
   "file_extension": ".py",
   "mimetype": "text/x-python",
   "name": "python",
   "nbconvert_exporter": "python",
   "pygments_lexer": "ipython3",
   "version": "3.11.5"
  }
 },
 "nbformat": 4,
 "nbformat_minor": 2
}

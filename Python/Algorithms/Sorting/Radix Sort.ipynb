{
 "cells": [
  {
   "cell_type": "markdown",
   "metadata": {},
   "source": [
    "## Radix Sort\n",
    "\n",
    "The Radix Sort algorithm sorts an array by individual digits, starting with the least significant digit (the rightmost one).\n",
    "\n",
    "The radix (or base) is the number of unique digits in a number system. In the decimal system we normally use, there are 10 different digits from 0 till 9.\n",
    "\n",
    "Radix Sort uses the radix so that decimal values are put into 10 different buckets (or containers) corresponding to the digit that is in focus, then put back into the array before moving on to the next digit.\n",
    "\n",
    "Radix Sort is a non comparative algorithm that only works with non negative integers."
   ]
  },
  {
   "cell_type": "markdown",
   "metadata": {},
   "source": [
    "## How it works:\n",
    "\n",
    "- Start with the least significant digit (rightmost digit).\n",
    "- Sort the values based on the digit in focus by first putting the values in the correct bucket based on the digit in focus, and then put them back into array in the correct order.\n",
    "- Move to the next digit, and sort again, like in the step above, until there are no digits left."
   ]
  },
  {
   "cell_type": "markdown",
   "metadata": {},
   "source": [
    "## Stable Sorting\n",
    "\n",
    "Radix Sort must sort the elements in a stable way for the result to be sorted correctly.\n",
    "\n",
    "A stable sorting algorithm is an algorithm that keeps the order of elements with the same value before and after the sorting. Let's say we have two elements \"K\" and \"L\", where \"K\" comes before \"L\", and they both have value \"3\". A sorting algorithm is considered stable if element \"K\" still comes before \"L\" after the array is sorted.\n",
    "\n",
    "It makes little sense to talk about stable sorting algorithms for the previous algorithms we have looked at individually, because the result would be same if they are stable or not. But it is important for Radix Sort that the the sorting is done in a stable way because the elements are sorted by just one digit at a time.\n",
    "\n",
    "So after sorting the elements on the least significant digit and moving to the next digit, it is important to not destroy the sorting work that has already been done on the previous digit position, and that is why we need to take care that Radix Sort does the sorting on each digit position in a stable way."
   ]
  },
  {
   "cell_type": "markdown",
   "metadata": {},
   "source": [
    "## Manual Run Through\n",
    "\n",
    "Step 1: We start with an unsorted array, and an empty array to fit values with corresponding radices 0 till 9.\n",
    "- myArray = [ 33, 45, 40, 25, 17, 24]\n",
    "- radixArray = [ [], [], [], [], [], [], [], [], [], [] ]\n",
    "\n",
    "Step 2: We start sorting by focusing on the least significant digit.\n",
    "- myArray = [ 33, 45, 40, 25, 17, 24]\n",
    "- radixArray = [ [], [], [], [], [], [], [], [], [], [] ]\n",
    "\n",
    "Step 3: Now we move the elements into the correct positions in the radix array according to the digit in focus. Elements are taken from the start of myArray and pushed into the correct position in the radixArray.\n",
    "- myArray = [ ]\n",
    "- radixArray = [ [40], [], [], [33], [24], [45, 25], [], [17], [], [] ]\n",
    "\n",
    "Step 4: We move the elements back into the initial array, and the sorting is now done for the least significant digit. Elements are taken from the end radixArray, and put into the start of myArray.\n",
    "- myArray = [ 40, 33, 24, 45, 25, 17 ]\n",
    "- radixArray = [ [], [], [], [], [], [], [], [], [], [] ]\n",
    "\n",
    "Step 5: We move focus to the next digit. Notice that values 45 and 25 are still in the same order relative to each other as they were to start with, because we sort in a stable way.\n",
    "- myArray = [ 40, 33, 24, 45, 25, 17 ]\n",
    "- radixArray = [ [], [], [], [], [], [], [], [], [], [] ]\n",
    "\n",
    "Step 6: We move elements into the radix array according to the focused digit.\n",
    "- myArray = [ ]\n",
    "- radixArray = [ [], [17], [24, 25], [33], [40, 45], [], [], [], [], [] ]\n",
    "\n",
    "Step 7: We move elements back into the start of myArray, from the back of radixArray.\n",
    "- myArray = [ 17, 24, 25, 33, 40, 45 ]\n",
    "- radixArray = [ [], [], [], [], [], [], [], [], [], [] ]\n",
    "\n",
    "The sorting is finished!"
   ]
  },
  {
   "cell_type": "markdown",
   "metadata": {},
   "source": [
    "## Manual Run Through: What Happened?\n",
    "\n",
    "We see that values are moved from the array and placed in the radix array according to the current radix in focus. And then the values are moved back into the array we want to sort.\n",
    "\n",
    "This moving of values from the array we want to sort and back again must be done as many times as the maximum number of digits in a value. So for example if 437 is the highest number in the array that needs to be sorted, we know we must sort three times, once for each digit.\n",
    "\n",
    "We also see that the radix array needs to be two-dimensional so that more than one value on a specific radix, or index.\n",
    "\n",
    "And, as mentioned earlier, we must move values between the two arrays in a way that keeps the order of values with the same radix in focus, so the the sorting is stable."
   ]
  },
  {
   "cell_type": "markdown",
   "metadata": {},
   "source": [
    "## Radix Sort Implementation\n",
    "\n",
    "To implement the Radix Sort algorithm we need:\n",
    "\n",
    "- An array with non negative integers that needs to be sorted.\n",
    "- A two dimensional array with index 0 to 9 to hold values with the current radix in focus.\n",
    "- A loop that takes values from the unsorted array and places them in the correct position in the two dimensional radix array.\n",
    "- A loop that puts values back into the initial array from the radix array.\n",
    "- An outer loop that runs as many times as there are digits in the highest value."
   ]
  },
  {
   "cell_type": "code",
   "execution_count": 1,
   "metadata": {},
   "outputs": [
    {
     "name": "stdout",
     "output_type": "stream",
     "text": [
      "Original array: [170, 45, 75, 90, 802, 24, 2, 66]\n",
      "Sorted array: [2, 24, 45, 66, 75, 90, 170, 802]\n"
     ]
    }
   ],
   "source": [
    "myArray = [170, 45, 75, 90, 802, 24, 2, 66]\n",
    "print(\"Original array:\", myArray)\n",
    "radixArray = [[], [], [], [], [], [], [], [], [], []]\n",
    "maxVal = max(myArray)\n",
    "exp = 1\n",
    "\n",
    "while maxVal // exp > 0:\n",
    "\n",
    "    while len(myArray) > 0:\n",
    "        val = myArray.pop()\n",
    "        radixIndex = (val // exp) % 10\n",
    "        radixArray[radixIndex].append(val)\n",
    "\n",
    "    for bucket in radixArray:\n",
    "        while len(bucket) > 0:\n",
    "            val = bucket.pop()\n",
    "            myArray.append(val)\n",
    "\n",
    "    exp *= 10\n",
    "\n",
    "print(\"Sorted array:\", myArray)"
   ]
  },
  {
   "cell_type": "markdown",
   "metadata": {},
   "source": [
    "On line 7, we use floor division (\"//\") to divide the maximum value 802 by 1 the first time the while loop runs, the next time it is divided by 10, and the last time it is divided by 100. When using floor division \"//\", any number beyond the decimal point are disregarded, and an integer is returned.\n",
    "\n",
    "On line 11, it is decided where to put a value in the radixArray based on its radix, or digit in focus. For example, the second time the outer while loop runs exp will be 10. Value 170 divided by 10 will be 17. The \"%10\" operation divides by 10 and returns what is left. In this case 17 is divided by 10 one time, and 7 is left. So value 170 is placed in index 7 in the radixArray."
   ]
  },
  {
   "cell_type": "markdown",
   "metadata": {},
   "source": [
    "## Radix Sort Using Other Sorting Algorithms\n",
    "\n",
    "Radix Sort can actually be implemented together with any other sorting algorithm as long as it is stable. This means that when it comes down to sorting on a specific digit, any stable sorting algorithm will work, such as counting sort or bubble sort.\n",
    "\n",
    "This is an implementation of Radix Sort that uses Bubble Sort to sort on the individual digits:"
   ]
  },
  {
   "cell_type": "code",
   "execution_count": 2,
   "metadata": {},
   "outputs": [
    {
     "name": "stdout",
     "output_type": "stream",
     "text": [
      "Original array: [170, 45, 75, 90, 802, 24, 2, 66]\n",
      "Sorted array: [2, 24, 45, 66, 75, 90, 170, 802]\n"
     ]
    }
   ],
   "source": [
    "def bubbleSort(arr):\n",
    "    n = len(arr)\n",
    "    for i in range(n):\n",
    "        for j in range(0, n - i - 1):\n",
    "            if arr[j] > arr[j + 1]:\n",
    "                arr[j], arr[j + 1] = arr[j + 1], arr[j]\n",
    "                \n",
    "def radixSortWithBubbleSort(arr):\n",
    "    max_val = max(arr)\n",
    "    exp = 1\n",
    "    \n",
    "    while max_val // exp > 0:\n",
    "        radixArray = [[],[],[],[],[],[],[],[],[],[]]\n",
    "        \n",
    "        for num in arr:\n",
    "            radixIndex = (num // exp) % 10\n",
    "            radixArray[radixIndex].append(num)\n",
    "        \n",
    "        for bucket in radixArray:\n",
    "            bubbleSort(bucket)\n",
    "        \n",
    "        i = 0\n",
    "        for bucket in radixArray:\n",
    "            for num in bucket:\n",
    "                arr[i] = num\n",
    "                i += 1\n",
    "        \n",
    "        exp *= 10\n",
    "\n",
    "myArray = [170, 45, 75, 90, 802, 24, 2, 66]\n",
    "print(\"Original array:\", myArray)\n",
    "radixSortWithBubbleSort(myArray)\n",
    "print(\"Sorted array:\", myArray)"
   ]
  },
  {
   "cell_type": "markdown",
   "metadata": {},
   "source": [
    "## Radix Sort Time Complexity\n",
    "\n",
    "The time complexity for Radix Sort is: O(n*k).\n",
    "\n",
    "This means that Radix Sort depends both on the values that need to be sorted n, and the number of digits in the highest value k.\n",
    "\n",
    "A best case scenario for Radix Sort is if there are lots of values to sort, but the values have few digits. For example if there are more than a million values to sort, and the highest value is 999, with just three digits. In such a case the time complexity O(n*k) can be simplified to just O(n)\n",
    "\n",
    "A worst case scenario for Radix Sort would be if there are as many digits in the highest value as there are values to sort. This is perhaps not a common scenario, but the time complexity would be O(n**2) in this case.\n",
    "\n",
    "The most average or common case is perhaps if the number of digits k is something like k(n)=logn. If so, Radix Sort gets time complexity O(n⋅log n). An example of such a case would be if there are 1000000 values to sort, and the values have 6 digits."
   ]
  }
 ],
 "metadata": {
  "kernelspec": {
   "display_name": "Python 3",
   "language": "python",
   "name": "python3"
  },
  "language_info": {
   "codemirror_mode": {
    "name": "ipython",
    "version": 3
   },
   "file_extension": ".py",
   "mimetype": "text/x-python",
   "name": "python",
   "nbconvert_exporter": "python",
   "pygments_lexer": "ipython3",
   "version": "3.11.5"
  }
 },
 "nbformat": 4,
 "nbformat_minor": 2
}

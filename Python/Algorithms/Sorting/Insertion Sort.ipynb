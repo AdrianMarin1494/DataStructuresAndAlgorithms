{
 "cells": [
  {
   "cell_type": "markdown",
   "metadata": {},
   "source": [
    "## Insertion Sort\n",
    "\n",
    "The Insertion Sort algorithm uses one part of the array to hold the sorted values, and the other part of the array to hold values that are not sorted yet.\n",
    "\n",
    "The algorithm takes one value at a time from the unsorted part of the array and puts it into the right place in the sorted part of the array, until the array is sorted."
   ]
  },
  {
   "cell_type": "markdown",
   "metadata": {},
   "source": [
    "## How it works:\n",
    "\n",
    "- Take the first value from the unsorted part of the array.\n",
    "- Move the value into the correct place in the sorted part of the array.\n",
    "- Go through the unsorted part of the array again as many times as there are values."
   ]
  },
  {
   "cell_type": "markdown",
   "metadata": {},
   "source": [
    "## Manual Run Through\n",
    "\n",
    "Step 1: We start with an unsorted array.\n",
    "- [ 7, 12, 9, 11, 3]\n",
    "\n",
    "Step 2: We can consider the first value as the initial sorted part of the array. If it is just one value, it must be sorted, right?\n",
    "- [ 7, 12, 9, 11, 3]\n",
    "\n",
    "Step 3: The next value 12 should now be moved into the correct position in the sorted part of the array. But 12 is higher than 7, so it is already in the correct position.\n",
    "- [ 7, 12, 9, 11, 3]\n",
    "\n",
    "Step 4: Consider the next value 9.\n",
    "- [ 7, 12, 9, 11, 3]\n",
    "\n",
    "Step 5: The value 9 must now be moved into the correct position inside the sorted part of the array, so we move 9 in between 7 and 12.\n",
    "- [ 7, 9, 12, 11, 3]\n",
    "\n",
    "Step 6: The next value is 11.\n",
    "- [ 7, 9, 12, 11, 3]\n",
    "\n",
    "Step 7: We move it in between 9 and 12 in the sorted part of the array.\n",
    "- [ 7, 9, 11, 12, 3]\n",
    "\n",
    "Step 8: The last value to insert into the correct position is 3.\n",
    "- [ 7, 9, 11, 12, 3]\n",
    "\n",
    "Step 9: We insert 3 in front of all other values because it is the lowest value.\n",
    "- [ 3,7, 9, 11, 12]\n",
    "\n",
    "Finally, the array is sorted."
   ]
  },
  {
   "cell_type": "markdown",
   "metadata": {},
   "source": [
    "## Manual Run Through: What Happened?\n",
    "\n",
    "The first value is considered to be the initial sorted part of the array.\n",
    "\n",
    "Every value after the first value must be compared to the values in the sorted part of the algorithm so that it can be inserted into the correct position.\n",
    "\n",
    "The Insertion Sort Algorithm must run through the array 4 times, to sort the array of 5 values because we do not have to sort the first value.\n",
    "\n",
    "And each time the algorithm runs through the array, the remaining unsorted part of the array becomes shorter."
   ]
  },
  {
   "cell_type": "markdown",
   "metadata": {},
   "source": [
    "## Insertion Sort Implementation\n",
    "\n",
    "To implement the Insertion Sort algorithm in a programming language, we need:\n",
    "\n",
    "- An array with values to sort.\n",
    "- An outer loop that picks a value to be sorted. For an array with n values, this outer loop skips the first value, and must run n−1 times.\n",
    "- An inner loop that goes through the sorted part of the array, to find where to insert the value. If the value to be sorted is at index i the sorted part of the array starts at index 0 and ends at index i−1."
   ]
  },
  {
   "cell_type": "code",
   "execution_count": 1,
   "metadata": {},
   "outputs": [
    {
     "name": "stdout",
     "output_type": "stream",
     "text": [
      "Sorted array: [5, 11, 12, 22, 25, 34, 64, 90]\n"
     ]
    }
   ],
   "source": [
    "my_array = [64, 34, 25, 12, 22, 11, 90, 5]\n",
    "\n",
    "n = len(my_array)\n",
    "\n",
    "for i in range(1,n):\n",
    "    insert_index = i\n",
    "    current_value = my_array[i]\n",
    "    for j in range(i-1, -1, -1):\n",
    "        if my_array[j] > current_value:\n",
    "            my_array[j+1] = my_array[j]\n",
    "            insert_index = j\n",
    "        else:\n",
    "            break\n",
    "    my_array[insert_index] = current_value\n",
    "\n",
    "print(\"Sorted array:\", my_array)"
   ]
  },
  {
   "cell_type": "markdown",
   "metadata": {},
   "source": [
    "## Insertion Sort Time Complexity\n",
    "\n",
    "Selection Sort sorts an array of n values.\n",
    "\n",
    "On average, each value must be compared to about n/2 other values to find out where to insert it.\n",
    "\n",
    "And Selection Sort must run the loop to insert a value in its correct place approximately n times.\n",
    "\n",
    "We get time complexity for Insertion Sort: O(n**2)"
   ]
  }
 ],
 "metadata": {
  "kernelspec": {
   "display_name": "Python 3",
   "language": "python",
   "name": "python3"
  },
  "language_info": {
   "codemirror_mode": {
    "name": "ipython",
    "version": 3
   },
   "file_extension": ".py",
   "mimetype": "text/x-python",
   "name": "python",
   "nbconvert_exporter": "python",
   "pygments_lexer": "ipython3",
   "version": "3.11.5"
  }
 },
 "nbformat": 4,
 "nbformat_minor": 2
}
